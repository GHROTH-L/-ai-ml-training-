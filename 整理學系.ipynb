{
  "nbformat": 4,
  "nbformat_minor": 0,
  "metadata": {
    "colab": {
      "provenance": [],
      "authorship_tag": "ABX9TyNKNVabuofOPaWWU/reSA2F",
      "include_colab_link": true
    },
    "kernelspec": {
      "name": "python3",
      "display_name": "Python 3"
    },
    "language_info": {
      "name": "python"
    }
  },
  "cells": [
    {
      "cell_type": "markdown",
      "metadata": {
        "id": "view-in-github",
        "colab_type": "text"
      },
      "source": [
        "<a href=\"https://colab.research.google.com/github/GHROTH-L/-ai-ml-training-/blob/main/%E6%95%B4%E7%90%86%E5%AD%B8%E7%B3%BB.ipynb\" target=\"_parent\"><img src=\"https://colab.research.google.com/assets/colab-badge.svg\" alt=\"Open In Colab\"/></a>"
      ]
    },
    {
      "cell_type": "markdown",
      "source": [
        "# 科系整理"
      ],
      "metadata": {
        "id": "U8PGU7l7Wd9k"
      }
    },
    {
      "cell_type": "markdown",
      "source": [
        "##先整理大學的科系與對應"
      ],
      "metadata": {
        "id": "1z4cIHFgWg0L"
      }
    },
    {
      "cell_type": "code",
      "execution_count": null,
      "metadata": {
        "id": "wdnnHt1ZTbDi"
      },
      "outputs": [],
      "source": [
        "from google.colab import files\n",
        "import pandas as pd\n",
        "\n",
        "# 選擇上傳 Excel 檔案\n",
        "uploaded = files.upload()\n",
        "\n",
        "# 取得檔案名稱\n",
        "file_name = list(uploaded.keys())[0]\n",
        "\n",
        "# 讀取 Excel\n",
        "df = pd.read_excel(file_name)\n",
        "\n",
        "# 顯示前幾筆資料\n",
        "df.head()"
      ]
    },
    {
      "cell_type": "code",
      "source": [
        "expanded_data = []\n",
        "for index, row in df.iterrows():\n",
        "    if pd.notna(row[\"discrib\"]):  # 確保第五欄有值\n",
        "        split_values = row[\"discrib\"].split(\"、\")  # 依據頓號切割\n",
        "        for value in split_values:\n",
        "            expanded_data.append([row[\"mainid\"], row[\"midid\"], row[\"lastid\"], value, row[\"eduid\"]])  # 重新組合成新行\n",
        "    else:\n",
        "        expanded_data.append([row[\"mainid\"], row[\"midid\"], row[\"lastid\"], row[\"lastname\"], row[\"eduid\"]])  # 沒有第五欄的保留原始\n",
        "\n",
        "# 轉換為新的 DataFrame\n",
        "expanded_df = pd.DataFrame(expanded_data, columns=[\"mainid\", \"midid\", \"lastid\t\", \"lastname\", \"eduid\"])"
      ],
      "metadata": {
        "id": "zS_BWx3wT3Sk"
      },
      "execution_count": null,
      "outputs": []
    },
    {
      "cell_type": "code",
      "source": [
        "expanded_df.head(10)"
      ],
      "metadata": {
        "colab": {
          "base_uri": "https://localhost:8080/",
          "height": 354
        },
        "id": "p1y9WbIyUyus",
        "outputId": "bad42036-c017-4bb5-bb19-a07b6c837f36"
      },
      "execution_count": null,
      "outputs": [
        {
          "output_type": "execute_result",
          "data": {
            "text/plain": [
              "   mainid  midid  lastid\\t   lastname     eduid\n",
              "0       2    201     20101       教育學系  140101.0\n",
              "1       2    201     20102     比較教育學系  140102.0\n",
              "2       2    201     20103     國民教育學系  140103.0\n",
              "3       2    201     20104   多元文化教育學系  140104.0\n",
              "4       2    201     20105   課程與教學研究所  140105.0\n",
              "5       2    201     20105      課程研究所  140105.0\n",
              "6       2    201     20106  教育專業發展研究所  140106.0\n",
              "7       2    201     20107  教育心理與輔導學系  140107.0\n",
              "8       2    201     20107       輔導學系  140107.0\n",
              "9       2    201     20108  教育心理與諮商學系  140108.0"
            ],
            "text/html": [
              "\n",
              "  <div id=\"df-18e78a7d-633b-41a6-86e8-c1bfa24a51a5\" class=\"colab-df-container\">\n",
              "    <div>\n",
              "<style scoped>\n",
              "    .dataframe tbody tr th:only-of-type {\n",
              "        vertical-align: middle;\n",
              "    }\n",
              "\n",
              "    .dataframe tbody tr th {\n",
              "        vertical-align: top;\n",
              "    }\n",
              "\n",
              "    .dataframe thead th {\n",
              "        text-align: right;\n",
              "    }\n",
              "</style>\n",
              "<table border=\"1\" class=\"dataframe\">\n",
              "  <thead>\n",
              "    <tr style=\"text-align: right;\">\n",
              "      <th></th>\n",
              "      <th>mainid</th>\n",
              "      <th>midid</th>\n",
              "      <th>lastid\\t</th>\n",
              "      <th>lastname</th>\n",
              "      <th>eduid</th>\n",
              "    </tr>\n",
              "  </thead>\n",
              "  <tbody>\n",
              "    <tr>\n",
              "      <th>0</th>\n",
              "      <td>2</td>\n",
              "      <td>201</td>\n",
              "      <td>20101</td>\n",
              "      <td>教育學系</td>\n",
              "      <td>140101.0</td>\n",
              "    </tr>\n",
              "    <tr>\n",
              "      <th>1</th>\n",
              "      <td>2</td>\n",
              "      <td>201</td>\n",
              "      <td>20102</td>\n",
              "      <td>比較教育學系</td>\n",
              "      <td>140102.0</td>\n",
              "    </tr>\n",
              "    <tr>\n",
              "      <th>2</th>\n",
              "      <td>2</td>\n",
              "      <td>201</td>\n",
              "      <td>20103</td>\n",
              "      <td>國民教育學系</td>\n",
              "      <td>140103.0</td>\n",
              "    </tr>\n",
              "    <tr>\n",
              "      <th>3</th>\n",
              "      <td>2</td>\n",
              "      <td>201</td>\n",
              "      <td>20104</td>\n",
              "      <td>多元文化教育學系</td>\n",
              "      <td>140104.0</td>\n",
              "    </tr>\n",
              "    <tr>\n",
              "      <th>4</th>\n",
              "      <td>2</td>\n",
              "      <td>201</td>\n",
              "      <td>20105</td>\n",
              "      <td>課程與教學研究所</td>\n",
              "      <td>140105.0</td>\n",
              "    </tr>\n",
              "    <tr>\n",
              "      <th>5</th>\n",
              "      <td>2</td>\n",
              "      <td>201</td>\n",
              "      <td>20105</td>\n",
              "      <td>課程研究所</td>\n",
              "      <td>140105.0</td>\n",
              "    </tr>\n",
              "    <tr>\n",
              "      <th>6</th>\n",
              "      <td>2</td>\n",
              "      <td>201</td>\n",
              "      <td>20106</td>\n",
              "      <td>教育專業發展研究所</td>\n",
              "      <td>140106.0</td>\n",
              "    </tr>\n",
              "    <tr>\n",
              "      <th>7</th>\n",
              "      <td>2</td>\n",
              "      <td>201</td>\n",
              "      <td>20107</td>\n",
              "      <td>教育心理與輔導學系</td>\n",
              "      <td>140107.0</td>\n",
              "    </tr>\n",
              "    <tr>\n",
              "      <th>8</th>\n",
              "      <td>2</td>\n",
              "      <td>201</td>\n",
              "      <td>20107</td>\n",
              "      <td>輔導學系</td>\n",
              "      <td>140107.0</td>\n",
              "    </tr>\n",
              "    <tr>\n",
              "      <th>9</th>\n",
              "      <td>2</td>\n",
              "      <td>201</td>\n",
              "      <td>20108</td>\n",
              "      <td>教育心理與諮商學系</td>\n",
              "      <td>140108.0</td>\n",
              "    </tr>\n",
              "  </tbody>\n",
              "</table>\n",
              "</div>\n",
              "    <div class=\"colab-df-buttons\">\n",
              "\n",
              "  <div class=\"colab-df-container\">\n",
              "    <button class=\"colab-df-convert\" onclick=\"convertToInteractive('df-18e78a7d-633b-41a6-86e8-c1bfa24a51a5')\"\n",
              "            title=\"Convert this dataframe to an interactive table.\"\n",
              "            style=\"display:none;\">\n",
              "\n",
              "  <svg xmlns=\"http://www.w3.org/2000/svg\" height=\"24px\" viewBox=\"0 -960 960 960\">\n",
              "    <path d=\"M120-120v-720h720v720H120Zm60-500h600v-160H180v160Zm220 220h160v-160H400v160Zm0 220h160v-160H400v160ZM180-400h160v-160H180v160Zm440 0h160v-160H620v160ZM180-180h160v-160H180v160Zm440 0h160v-160H620v160Z\"/>\n",
              "  </svg>\n",
              "    </button>\n",
              "\n",
              "  <style>\n",
              "    .colab-df-container {\n",
              "      display:flex;\n",
              "      gap: 12px;\n",
              "    }\n",
              "\n",
              "    .colab-df-convert {\n",
              "      background-color: #E8F0FE;\n",
              "      border: none;\n",
              "      border-radius: 50%;\n",
              "      cursor: pointer;\n",
              "      display: none;\n",
              "      fill: #1967D2;\n",
              "      height: 32px;\n",
              "      padding: 0 0 0 0;\n",
              "      width: 32px;\n",
              "    }\n",
              "\n",
              "    .colab-df-convert:hover {\n",
              "      background-color: #E2EBFA;\n",
              "      box-shadow: 0px 1px 2px rgba(60, 64, 67, 0.3), 0px 1px 3px 1px rgba(60, 64, 67, 0.15);\n",
              "      fill: #174EA6;\n",
              "    }\n",
              "\n",
              "    .colab-df-buttons div {\n",
              "      margin-bottom: 4px;\n",
              "    }\n",
              "\n",
              "    [theme=dark] .colab-df-convert {\n",
              "      background-color: #3B4455;\n",
              "      fill: #D2E3FC;\n",
              "    }\n",
              "\n",
              "    [theme=dark] .colab-df-convert:hover {\n",
              "      background-color: #434B5C;\n",
              "      box-shadow: 0px 1px 3px 1px rgba(0, 0, 0, 0.15);\n",
              "      filter: drop-shadow(0px 1px 2px rgba(0, 0, 0, 0.3));\n",
              "      fill: #FFFFFF;\n",
              "    }\n",
              "  </style>\n",
              "\n",
              "    <script>\n",
              "      const buttonEl =\n",
              "        document.querySelector('#df-18e78a7d-633b-41a6-86e8-c1bfa24a51a5 button.colab-df-convert');\n",
              "      buttonEl.style.display =\n",
              "        google.colab.kernel.accessAllowed ? 'block' : 'none';\n",
              "\n",
              "      async function convertToInteractive(key) {\n",
              "        const element = document.querySelector('#df-18e78a7d-633b-41a6-86e8-c1bfa24a51a5');\n",
              "        const dataTable =\n",
              "          await google.colab.kernel.invokeFunction('convertToInteractive',\n",
              "                                                    [key], {});\n",
              "        if (!dataTable) return;\n",
              "\n",
              "        const docLinkHtml = 'Like what you see? Visit the ' +\n",
              "          '<a target=\"_blank\" href=https://colab.research.google.com/notebooks/data_table.ipynb>data table notebook</a>'\n",
              "          + ' to learn more about interactive tables.';\n",
              "        element.innerHTML = '';\n",
              "        dataTable['output_type'] = 'display_data';\n",
              "        await google.colab.output.renderOutput(dataTable, element);\n",
              "        const docLink = document.createElement('div');\n",
              "        docLink.innerHTML = docLinkHtml;\n",
              "        element.appendChild(docLink);\n",
              "      }\n",
              "    </script>\n",
              "  </div>\n",
              "\n",
              "\n",
              "<div id=\"df-55af3d38-b76b-4983-8c40-58028fed8670\">\n",
              "  <button class=\"colab-df-quickchart\" onclick=\"quickchart('df-55af3d38-b76b-4983-8c40-58028fed8670')\"\n",
              "            title=\"Suggest charts\"\n",
              "            style=\"display:none;\">\n",
              "\n",
              "<svg xmlns=\"http://www.w3.org/2000/svg\" height=\"24px\"viewBox=\"0 0 24 24\"\n",
              "     width=\"24px\">\n",
              "    <g>\n",
              "        <path d=\"M19 3H5c-1.1 0-2 .9-2 2v14c0 1.1.9 2 2 2h14c1.1 0 2-.9 2-2V5c0-1.1-.9-2-2-2zM9 17H7v-7h2v7zm4 0h-2V7h2v10zm4 0h-2v-4h2v4z\"/>\n",
              "    </g>\n",
              "</svg>\n",
              "  </button>\n",
              "\n",
              "<style>\n",
              "  .colab-df-quickchart {\n",
              "      --bg-color: #E8F0FE;\n",
              "      --fill-color: #1967D2;\n",
              "      --hover-bg-color: #E2EBFA;\n",
              "      --hover-fill-color: #174EA6;\n",
              "      --disabled-fill-color: #AAA;\n",
              "      --disabled-bg-color: #DDD;\n",
              "  }\n",
              "\n",
              "  [theme=dark] .colab-df-quickchart {\n",
              "      --bg-color: #3B4455;\n",
              "      --fill-color: #D2E3FC;\n",
              "      --hover-bg-color: #434B5C;\n",
              "      --hover-fill-color: #FFFFFF;\n",
              "      --disabled-bg-color: #3B4455;\n",
              "      --disabled-fill-color: #666;\n",
              "  }\n",
              "\n",
              "  .colab-df-quickchart {\n",
              "    background-color: var(--bg-color);\n",
              "    border: none;\n",
              "    border-radius: 50%;\n",
              "    cursor: pointer;\n",
              "    display: none;\n",
              "    fill: var(--fill-color);\n",
              "    height: 32px;\n",
              "    padding: 0;\n",
              "    width: 32px;\n",
              "  }\n",
              "\n",
              "  .colab-df-quickchart:hover {\n",
              "    background-color: var(--hover-bg-color);\n",
              "    box-shadow: 0 1px 2px rgba(60, 64, 67, 0.3), 0 1px 3px 1px rgba(60, 64, 67, 0.15);\n",
              "    fill: var(--button-hover-fill-color);\n",
              "  }\n",
              "\n",
              "  .colab-df-quickchart-complete:disabled,\n",
              "  .colab-df-quickchart-complete:disabled:hover {\n",
              "    background-color: var(--disabled-bg-color);\n",
              "    fill: var(--disabled-fill-color);\n",
              "    box-shadow: none;\n",
              "  }\n",
              "\n",
              "  .colab-df-spinner {\n",
              "    border: 2px solid var(--fill-color);\n",
              "    border-color: transparent;\n",
              "    border-bottom-color: var(--fill-color);\n",
              "    animation:\n",
              "      spin 1s steps(1) infinite;\n",
              "  }\n",
              "\n",
              "  @keyframes spin {\n",
              "    0% {\n",
              "      border-color: transparent;\n",
              "      border-bottom-color: var(--fill-color);\n",
              "      border-left-color: var(--fill-color);\n",
              "    }\n",
              "    20% {\n",
              "      border-color: transparent;\n",
              "      border-left-color: var(--fill-color);\n",
              "      border-top-color: var(--fill-color);\n",
              "    }\n",
              "    30% {\n",
              "      border-color: transparent;\n",
              "      border-left-color: var(--fill-color);\n",
              "      border-top-color: var(--fill-color);\n",
              "      border-right-color: var(--fill-color);\n",
              "    }\n",
              "    40% {\n",
              "      border-color: transparent;\n",
              "      border-right-color: var(--fill-color);\n",
              "      border-top-color: var(--fill-color);\n",
              "    }\n",
              "    60% {\n",
              "      border-color: transparent;\n",
              "      border-right-color: var(--fill-color);\n",
              "    }\n",
              "    80% {\n",
              "      border-color: transparent;\n",
              "      border-right-color: var(--fill-color);\n",
              "      border-bottom-color: var(--fill-color);\n",
              "    }\n",
              "    90% {\n",
              "      border-color: transparent;\n",
              "      border-bottom-color: var(--fill-color);\n",
              "    }\n",
              "  }\n",
              "</style>\n",
              "\n",
              "  <script>\n",
              "    async function quickchart(key) {\n",
              "      const quickchartButtonEl =\n",
              "        document.querySelector('#' + key + ' button');\n",
              "      quickchartButtonEl.disabled = true;  // To prevent multiple clicks.\n",
              "      quickchartButtonEl.classList.add('colab-df-spinner');\n",
              "      try {\n",
              "        const charts = await google.colab.kernel.invokeFunction(\n",
              "            'suggestCharts', [key], {});\n",
              "      } catch (error) {\n",
              "        console.error('Error during call to suggestCharts:', error);\n",
              "      }\n",
              "      quickchartButtonEl.classList.remove('colab-df-spinner');\n",
              "      quickchartButtonEl.classList.add('colab-df-quickchart-complete');\n",
              "    }\n",
              "    (() => {\n",
              "      let quickchartButtonEl =\n",
              "        document.querySelector('#df-55af3d38-b76b-4983-8c40-58028fed8670 button');\n",
              "      quickchartButtonEl.style.display =\n",
              "        google.colab.kernel.accessAllowed ? 'block' : 'none';\n",
              "    })();\n",
              "  </script>\n",
              "</div>\n",
              "\n",
              "    </div>\n",
              "  </div>\n"
            ],
            "application/vnd.google.colaboratory.intrinsic+json": {
              "type": "dataframe",
              "variable_name": "expanded_df",
              "summary": "{\n  \"name\": \"expanded_df\",\n  \"rows\": 2198,\n  \"fields\": [\n    {\n      \"column\": \"mainid\",\n      \"properties\": {\n        \"dtype\": \"number\",\n        \"std\": 9,\n        \"min\": 2,\n        \"max\": 97,\n        \"num_unique_values\": 18,\n        \"samples\": [\n          2,\n          3,\n          10\n        ],\n        \"semantic_type\": \"\",\n        \"description\": \"\"\n      }\n    },\n    {\n      \"column\": \"midid\",\n      \"properties\": {\n        \"dtype\": \"number\",\n        \"std\": 922,\n        \"min\": 201,\n        \"max\": 9703,\n        \"num_unique_values\": 159,\n        \"samples\": [\n          813,\n          9703,\n          1411\n        ],\n        \"semantic_type\": \"\",\n        \"description\": \"\"\n      }\n    },\n    {\n      \"column\": \"lastid\\t\",\n      \"properties\": {\n        \"dtype\": \"number\",\n        \"std\": 92254,\n        \"min\": 20101,\n        \"max\": 970303,\n        \"num_unique_values\": 1863,\n        \"samples\": [\n          31113,\n          51004,\n          120147\n        ],\n        \"semantic_type\": \"\",\n        \"description\": \"\"\n      }\n    },\n    {\n      \"column\": \"lastname\",\n      \"properties\": {\n        \"dtype\": \"string\",\n        \"num_unique_values\": 2187,\n        \"samples\": [\n          \"\\u6f01\\u696d\\u79d1\\u5b78\\u7814\\u7a76\\u6240\",\n          \"\\u81e8\\u5e8a\\u7259\\u91ab\\u5b78\\u7814\\u7a76\\u6240\",\n          \"\\u98a8\\u96aa\\u7ba1\\u7406\\u8207\\u7d71\\u8a08\\u8cc7\\u8a0a\\u7814\\u7a76\\u6240\"\n        ],\n        \"semantic_type\": \"\",\n        \"description\": \"\"\n      }\n    },\n    {\n      \"column\": \"eduid\",\n      \"properties\": {\n        \"dtype\": \"number\",\n        \"std\": 216369.7067567174,\n        \"min\": 140101.0,\n        \"max\": 990199.0,\n        \"num_unique_values\": 1724,\n        \"samples\": [\n          220310.0,\n          529904.0,\n          760308.0\n        ],\n        \"semantic_type\": \"\",\n        \"description\": \"\"\n      }\n    }\n  ]\n}"
            }
          },
          "metadata": {},
          "execution_count": 9
        }
      ]
    },
    {
      "cell_type": "code",
      "source": [
        "# 假設 df 是你的 DataFrame\n",
        "output_file = \"output.xlsx\"  # 輸出的檔案名稱\n",
        "\n",
        "# 將 DataFrame 儲存為 Excel\n",
        "expanded_df.to_excel(output_file, index=False)\n",
        "\n",
        "# 讓 Colab 下載 Excel 檔案\n",
        "from google.colab import files\n",
        "files.download(output_file)"
      ],
      "metadata": {
        "colab": {
          "base_uri": "https://localhost:8080/",
          "height": 17
        },
        "id": "OybaBP02Uzym",
        "outputId": "5c53bb18-3d3c-4f35-c457-ffa00a15474e"
      },
      "execution_count": null,
      "outputs": [
        {
          "output_type": "display_data",
          "data": {
            "text/plain": [
              "<IPython.core.display.Javascript object>"
            ],
            "application/javascript": [
              "\n",
              "    async function download(id, filename, size) {\n",
              "      if (!google.colab.kernel.accessAllowed) {\n",
              "        return;\n",
              "      }\n",
              "      const div = document.createElement('div');\n",
              "      const label = document.createElement('label');\n",
              "      label.textContent = `Downloading \"${filename}\": `;\n",
              "      div.appendChild(label);\n",
              "      const progress = document.createElement('progress');\n",
              "      progress.max = size;\n",
              "      div.appendChild(progress);\n",
              "      document.body.appendChild(div);\n",
              "\n",
              "      const buffers = [];\n",
              "      let downloaded = 0;\n",
              "\n",
              "      const channel = await google.colab.kernel.comms.open(id);\n",
              "      // Send a message to notify the kernel that we're ready.\n",
              "      channel.send({})\n",
              "\n",
              "      for await (const message of channel.messages) {\n",
              "        // Send a message to notify the kernel that we're ready.\n",
              "        channel.send({})\n",
              "        if (message.buffers) {\n",
              "          for (const buffer of message.buffers) {\n",
              "            buffers.push(buffer);\n",
              "            downloaded += buffer.byteLength;\n",
              "            progress.value = downloaded;\n",
              "          }\n",
              "        }\n",
              "      }\n",
              "      const blob = new Blob(buffers, {type: 'application/binary'});\n",
              "      const a = document.createElement('a');\n",
              "      a.href = window.URL.createObjectURL(blob);\n",
              "      a.download = filename;\n",
              "      div.appendChild(a);\n",
              "      a.click();\n",
              "      div.remove();\n",
              "    }\n",
              "  "
            ]
          },
          "metadata": {}
        },
        {
          "output_type": "display_data",
          "data": {
            "text/plain": [
              "<IPython.core.display.Javascript object>"
            ],
            "application/javascript": [
              "download(\"download_a9064579-e221-407a-becd-d9f58444cb96\", \"output.xlsx\", 72398)"
            ]
          },
          "metadata": {}
        }
      ]
    },
    {
      "cell_type": "markdown",
      "source": [
        "##ckip 與 jeiba"
      ],
      "metadata": {
        "id": "oAlTfqCZWcHN"
      }
    },
    {
      "cell_type": "code",
      "source": [
        "from sklearn.model_selection import train_test_split\n",
        "from sklearn.preprocessing import LabelEncoder\n",
        "import tensorflow as tf\n",
        "from tensorflow.keras.preprocessing.text import Tokenizer\n",
        "from tensorflow.keras.preprocessing.sequence import pad_sequences\n",
        "import pandas as pd\n",
        "! pip install -U ckip-transformers\n",
        "from ckip_transformers import __version__\n",
        "from ckip_transformers.nlp import CkipWordSegmenter, CkipPosTagger, CkipNerChunker\n",
        "from google.colab import files\n",
        "import jieba"
      ],
      "metadata": {
        "id": "GYVPyzTisKyr"
      },
      "execution_count": null,
      "outputs": []
    },
    {
      "cell_type": "code",
      "source": [
        "# 文本預處理，這裡可以使用 jieba 進行中文分詞\n",
        "def jieba_text(text):\n",
        "    # 使用 jieba 分詞\n",
        "    words = jieba.cut(text)\n",
        "    return ' '.join(words)"
      ],
      "metadata": {
        "id": "-S1eXG9bsW6l"
      },
      "execution_count": null,
      "outputs": []
    },
    {
      "cell_type": "code",
      "source": [
        "# Show version\n",
        "print(__version__)\n",
        "\n",
        "# Initialize drivers\n",
        "print(\"Initializing drivers ... WS\")\n",
        "ws_driver = CkipWordSegmenter(model=\"albert-base\", device=-1)\n",
        "print(\"Initializing drivers ... POS\")\n",
        "pos_driver = CkipPosTagger(model=\"albert-base\", device=-1)\n",
        "print(\"Initializing drivers ... NER\")\n",
        "ner_driver = CkipNerChunker(model=\"albert-base\", device=-1)\n",
        "print(\"Initializing drivers ... all done\")\n",
        "print()\n",
        "\n",
        "#model 有其它的可以選，如 \"bert-base\"\n",
        "#device=0 是使用 GPU， device=-1 是使用 CPU，不指定也可以。\n",
        "def clean(sentence_ws, sentence_pos):\n",
        "  short_with_pos = []\n",
        "  short_sentence = []\n",
        "  stop_pos = set(['Nep', 'Nh', 'Nb',]) # 這 3 種詞性不保留\n",
        "  for word_ws, word_pos in zip(sentence_ws, sentence_pos):\n",
        "    # 只留名詞和動詞\n",
        "    is_N_or_V = word_pos.startswith(\"V\") or word_pos.startswith(\"N\")\n",
        "    # 去掉名詞裡的某些詞性\n",
        "    is_not_stop_pos = word_pos not in stop_pos\n",
        "    # 只剩一個字的詞也不留\n",
        "    is_not_one_charactor = not (len(word_ws) == 1)\n",
        "    # 組成串列\n",
        "    if is_N_or_V and is_not_stop_pos and is_not_one_charactor:\n",
        "      short_with_pos.append(f\"{word_ws}({word_pos})\")\n",
        "      short_sentence.append(f\"{word_ws}\")\n",
        "  return (\" \".join(short_sentence), \" \".join(short_with_pos))\n"
      ],
      "metadata": {
        "id": "u3MvCcmHsY5z"
      },
      "execution_count": null,
      "outputs": []
    },
    {
      "cell_type": "code",
      "source": [
        "uploaded = files.upload() #上傳資料\n",
        "# Get the filename from the uploaded dictionary\n",
        "filename = list(uploaded.keys())[0]\n",
        "data = pd.read_csv(filename)"
      ],
      "metadata": {
        "id": "Vg41fblPsHD6"
      },
      "execution_count": null,
      "outputs": []
    },
    {
      "cell_type": "code",
      "source": [
        "#確認是否有亂碼\n",
        "with open(filename, \"rb\") as f:\n",
        "    for i, line in enumerate(f):\n",
        "        try:\n",
        "            line.decode(\"utf-8\")\n",
        "        except UnicodeDecodeError as e:\n",
        "            print(f\"錯誤發生在第 {i+1} 行，錯誤訊息: {e}\")\n",
        "            break\n",
        "print(data.dtypes)\n",
        "print(data.head(10))"
      ],
      "metadata": {
        "id": "qbNr2gIasd8L"
      },
      "execution_count": null,
      "outputs": []
    },
    {
      "cell_type": "code",
      "source": [
        "data.dropna(subset=['mainid'], inplace=True)\n",
        "data['mainid'] = data['mainid'].astype(int)"
      ],
      "metadata": {
        "id": "9zNdfbXLQBmr"
      },
      "execution_count": null,
      "outputs": []
    },
    {
      "cell_type": "code",
      "source": [
        "# 儲存分詞結果與新的句子\n",
        "data[\"result\"] = \"\"\n",
        "data[\"n_lastname\"] = \"\"\n",
        "\n",
        "# 進行每個部份的分析\n",
        "for index, row in data.iterrows():\n",
        "    description = row[\"lastname\"]\n",
        "    # 分詞\n",
        "    ws_result = ws_driver([description])\n",
        "    # 詞性標註\n",
        "    pos_result = pos_driver(ws_result)\n",
        "\n",
        "    # 清洗數據\n",
        "    cleaned_sentence, cleaned_with_pos = clean(ws_result[0], pos_result[0])\n",
        "\n",
        "    # 保存结果\n",
        "    data.at[index, \"result\"] = cleaned_with_pos\n",
        "    data.at[index, \"n_lastname\"] = cleaned_sentence"
      ],
      "metadata": {
        "id": "Pn3RXLPNsi-N"
      },
      "execution_count": null,
      "outputs": []
    },
    {
      "cell_type": "code",
      "source": [
        "data['jeiba_lastname'] = data['lastname'].apply(jieba_text)\n",
        "data['n_lastname'] = data['n_lastname'].fillna(data['jeiba_lastname'])\n",
        "'''\n",
        "nan_indices = data[data['n_lastname'].isna()].index\n",
        "print(nan_indices)\n",
        "nan_rows_details = data.loc[[425, 2172]]\n",
        "print(nan_rows_details)\n",
        "\n",
        "不分系 跟基督教學系會被nan\n",
        "\n",
        "'''\n",
        "print(data.head(10))\n"
      ],
      "metadata": {
        "id": "bPF0KlsHvXHr"
      },
      "execution_count": null,
      "outputs": []
    },
    {
      "cell_type": "code",
      "source": [
        "nan_indices = data[data['n_lastname'].isna()].index\n",
        "print(nan_indices)\n",
        "nan_rows_details = data.loc[[425, 2172]]\n",
        "nan_rows_details"
      ],
      "metadata": {
        "id": "I0kBOB3-2yeD"
      },
      "execution_count": null,
      "outputs": []
    },
    {
      "cell_type": "code",
      "source": [
        "output_filename = \"2022科系分類_奕嘉_已經分詞.csv\"\n",
        "data.to_csv(output_filename, index=False, encoding='utf-8-sig')\n",
        "files.download(output_filename)"
      ],
      "metadata": {
        "colab": {
          "base_uri": "https://localhost:8080/",
          "height": 17
        },
        "id": "c-46RxgZ20oj",
        "outputId": "4382013f-9ec7-401e-8916-ae735c111d7d"
      },
      "execution_count": null,
      "outputs": [
        {
          "output_type": "display_data",
          "data": {
            "text/plain": [
              "<IPython.core.display.Javascript object>"
            ],
            "application/javascript": [
              "\n",
              "    async function download(id, filename, size) {\n",
              "      if (!google.colab.kernel.accessAllowed) {\n",
              "        return;\n",
              "      }\n",
              "      const div = document.createElement('div');\n",
              "      const label = document.createElement('label');\n",
              "      label.textContent = `Downloading \"${filename}\": `;\n",
              "      div.appendChild(label);\n",
              "      const progress = document.createElement('progress');\n",
              "      progress.max = size;\n",
              "      div.appendChild(progress);\n",
              "      document.body.appendChild(div);\n",
              "\n",
              "      const buffers = [];\n",
              "      let downloaded = 0;\n",
              "\n",
              "      const channel = await google.colab.kernel.comms.open(id);\n",
              "      // Send a message to notify the kernel that we're ready.\n",
              "      channel.send({})\n",
              "\n",
              "      for await (const message of channel.messages) {\n",
              "        // Send a message to notify the kernel that we're ready.\n",
              "        channel.send({})\n",
              "        if (message.buffers) {\n",
              "          for (const buffer of message.buffers) {\n",
              "            buffers.push(buffer);\n",
              "            downloaded += buffer.byteLength;\n",
              "            progress.value = downloaded;\n",
              "          }\n",
              "        }\n",
              "      }\n",
              "      const blob = new Blob(buffers, {type: 'application/binary'});\n",
              "      const a = document.createElement('a');\n",
              "      a.href = window.URL.createObjectURL(blob);\n",
              "      a.download = filename;\n",
              "      div.appendChild(a);\n",
              "      a.click();\n",
              "      div.remove();\n",
              "    }\n",
              "  "
            ]
          },
          "metadata": {}
        },
        {
          "output_type": "display_data",
          "data": {
            "text/plain": [
              "<IPython.core.display.Javascript object>"
            ],
            "application/javascript": [
              "download(\"download_33bd243a-33f6-4fb6-ad59-43d800e680e2\", \"2022\\u79d1\\u7cfb\\u5206\\u985e_\\u5955\\u5609_\\u5df2\\u7d93\\u5206\\u8a5e.csv\", 302660)"
            ]
          },
          "metadata": {}
        }
      ]
    },
    {
      "cell_type": "markdown",
      "source": [
        "##分類測試"
      ],
      "metadata": {
        "id": "6bRd98heWct0"
      }
    },
    {
      "cell_type": "markdown",
      "source": [
        "### 隨機森林"
      ],
      "metadata": {
        "id": "3p4tIEe20euj"
      }
    },
    {
      "cell_type": "code",
      "source": [
        "import pandas as pd\n",
        "import jieba\n",
        "from sklearn.model_selection import train_test_split\n",
        "from sklearn.feature_extraction.text import TfidfVectorizer\n",
        "from sklearn.ensemble import RandomForestClassifier\n",
        "from sklearn.metrics import classification_report\n",
        "from sklearn.preprocessing import LabelEncoder\n",
        "import tensorflow as tf\n",
        "from tensorflow.keras.preprocessing.text import Tokenizer\n",
        "from google.colab import files\n",
        "\n",
        "from imblearn.over_sampling import SMOTE\n"
      ],
      "metadata": {
        "id": "hXGnYSzp00TD"
      },
      "execution_count": 3,
      "outputs": []
    },
    {
      "cell_type": "code",
      "source": [
        "uploaded = files.upload() #上傳資料\n",
        "# Get the filename from the uploaded dictionary\n",
        "filename = list(uploaded.keys())[0]\n",
        "data = pd.read_csv(filename)"
      ],
      "metadata": {
        "colab": {
          "base_uri": "https://localhost:8080/",
          "height": 75
        },
        "id": "m-HAQnJN0gub",
        "outputId": "f81dbdc7-69a3-47a4-c691-7334fdfc9ca5"
      },
      "execution_count": null,
      "outputs": [
        {
          "output_type": "display_data",
          "data": {
            "text/plain": [
              "<IPython.core.display.HTML object>"
            ],
            "text/html": [
              "\n",
              "     <input type=\"file\" id=\"files-9b552b27-5bc2-4c7c-923b-06d114d22f4d\" name=\"files[]\" multiple disabled\n",
              "        style=\"border:none\" />\n",
              "     <output id=\"result-9b552b27-5bc2-4c7c-923b-06d114d22f4d\">\n",
              "      Upload widget is only available when the cell has been executed in the\n",
              "      current browser session. Please rerun this cell to enable.\n",
              "      </output>\n",
              "      <script>// Copyright 2017 Google LLC\n",
              "//\n",
              "// Licensed under the Apache License, Version 2.0 (the \"License\");\n",
              "// you may not use this file except in compliance with the License.\n",
              "// You may obtain a copy of the License at\n",
              "//\n",
              "//      http://www.apache.org/licenses/LICENSE-2.0\n",
              "//\n",
              "// Unless required by applicable law or agreed to in writing, software\n",
              "// distributed under the License is distributed on an \"AS IS\" BASIS,\n",
              "// WITHOUT WARRANTIES OR CONDITIONS OF ANY KIND, either express or implied.\n",
              "// See the License for the specific language governing permissions and\n",
              "// limitations under the License.\n",
              "\n",
              "/**\n",
              " * @fileoverview Helpers for google.colab Python module.\n",
              " */\n",
              "(function(scope) {\n",
              "function span(text, styleAttributes = {}) {\n",
              "  const element = document.createElement('span');\n",
              "  element.textContent = text;\n",
              "  for (const key of Object.keys(styleAttributes)) {\n",
              "    element.style[key] = styleAttributes[key];\n",
              "  }\n",
              "  return element;\n",
              "}\n",
              "\n",
              "// Max number of bytes which will be uploaded at a time.\n",
              "const MAX_PAYLOAD_SIZE = 100 * 1024;\n",
              "\n",
              "function _uploadFiles(inputId, outputId) {\n",
              "  const steps = uploadFilesStep(inputId, outputId);\n",
              "  const outputElement = document.getElementById(outputId);\n",
              "  // Cache steps on the outputElement to make it available for the next call\n",
              "  // to uploadFilesContinue from Python.\n",
              "  outputElement.steps = steps;\n",
              "\n",
              "  return _uploadFilesContinue(outputId);\n",
              "}\n",
              "\n",
              "// This is roughly an async generator (not supported in the browser yet),\n",
              "// where there are multiple asynchronous steps and the Python side is going\n",
              "// to poll for completion of each step.\n",
              "// This uses a Promise to block the python side on completion of each step,\n",
              "// then passes the result of the previous step as the input to the next step.\n",
              "function _uploadFilesContinue(outputId) {\n",
              "  const outputElement = document.getElementById(outputId);\n",
              "  const steps = outputElement.steps;\n",
              "\n",
              "  const next = steps.next(outputElement.lastPromiseValue);\n",
              "  return Promise.resolve(next.value.promise).then((value) => {\n",
              "    // Cache the last promise value to make it available to the next\n",
              "    // step of the generator.\n",
              "    outputElement.lastPromiseValue = value;\n",
              "    return next.value.response;\n",
              "  });\n",
              "}\n",
              "\n",
              "/**\n",
              " * Generator function which is called between each async step of the upload\n",
              " * process.\n",
              " * @param {string} inputId Element ID of the input file picker element.\n",
              " * @param {string} outputId Element ID of the output display.\n",
              " * @return {!Iterable<!Object>} Iterable of next steps.\n",
              " */\n",
              "function* uploadFilesStep(inputId, outputId) {\n",
              "  const inputElement = document.getElementById(inputId);\n",
              "  inputElement.disabled = false;\n",
              "\n",
              "  const outputElement = document.getElementById(outputId);\n",
              "  outputElement.innerHTML = '';\n",
              "\n",
              "  const pickedPromise = new Promise((resolve) => {\n",
              "    inputElement.addEventListener('change', (e) => {\n",
              "      resolve(e.target.files);\n",
              "    });\n",
              "  });\n",
              "\n",
              "  const cancel = document.createElement('button');\n",
              "  inputElement.parentElement.appendChild(cancel);\n",
              "  cancel.textContent = 'Cancel upload';\n",
              "  const cancelPromise = new Promise((resolve) => {\n",
              "    cancel.onclick = () => {\n",
              "      resolve(null);\n",
              "    };\n",
              "  });\n",
              "\n",
              "  // Wait for the user to pick the files.\n",
              "  const files = yield {\n",
              "    promise: Promise.race([pickedPromise, cancelPromise]),\n",
              "    response: {\n",
              "      action: 'starting',\n",
              "    }\n",
              "  };\n",
              "\n",
              "  cancel.remove();\n",
              "\n",
              "  // Disable the input element since further picks are not allowed.\n",
              "  inputElement.disabled = true;\n",
              "\n",
              "  if (!files) {\n",
              "    return {\n",
              "      response: {\n",
              "        action: 'complete',\n",
              "      }\n",
              "    };\n",
              "  }\n",
              "\n",
              "  for (const file of files) {\n",
              "    const li = document.createElement('li');\n",
              "    li.append(span(file.name, {fontWeight: 'bold'}));\n",
              "    li.append(span(\n",
              "        `(${file.type || 'n/a'}) - ${file.size} bytes, ` +\n",
              "        `last modified: ${\n",
              "            file.lastModifiedDate ? file.lastModifiedDate.toLocaleDateString() :\n",
              "                                    'n/a'} - `));\n",
              "    const percent = span('0% done');\n",
              "    li.appendChild(percent);\n",
              "\n",
              "    outputElement.appendChild(li);\n",
              "\n",
              "    const fileDataPromise = new Promise((resolve) => {\n",
              "      const reader = new FileReader();\n",
              "      reader.onload = (e) => {\n",
              "        resolve(e.target.result);\n",
              "      };\n",
              "      reader.readAsArrayBuffer(file);\n",
              "    });\n",
              "    // Wait for the data to be ready.\n",
              "    let fileData = yield {\n",
              "      promise: fileDataPromise,\n",
              "      response: {\n",
              "        action: 'continue',\n",
              "      }\n",
              "    };\n",
              "\n",
              "    // Use a chunked sending to avoid message size limits. See b/62115660.\n",
              "    let position = 0;\n",
              "    do {\n",
              "      const length = Math.min(fileData.byteLength - position, MAX_PAYLOAD_SIZE);\n",
              "      const chunk = new Uint8Array(fileData, position, length);\n",
              "      position += length;\n",
              "\n",
              "      const base64 = btoa(String.fromCharCode.apply(null, chunk));\n",
              "      yield {\n",
              "        response: {\n",
              "          action: 'append',\n",
              "          file: file.name,\n",
              "          data: base64,\n",
              "        },\n",
              "      };\n",
              "\n",
              "      let percentDone = fileData.byteLength === 0 ?\n",
              "          100 :\n",
              "          Math.round((position / fileData.byteLength) * 100);\n",
              "      percent.textContent = `${percentDone}% done`;\n",
              "\n",
              "    } while (position < fileData.byteLength);\n",
              "  }\n",
              "\n",
              "  // All done.\n",
              "  yield {\n",
              "    response: {\n",
              "      action: 'complete',\n",
              "    }\n",
              "  };\n",
              "}\n",
              "\n",
              "scope.google = scope.google || {};\n",
              "scope.google.colab = scope.google.colab || {};\n",
              "scope.google.colab._files = {\n",
              "  _uploadFiles,\n",
              "  _uploadFilesContinue,\n",
              "};\n",
              "})(self);\n",
              "</script> "
            ]
          },
          "metadata": {}
        },
        {
          "output_type": "stream",
          "name": "stdout",
          "text": [
            "Saving 科系分類_奕嘉_已經分詞.csv to 科系分類_奕嘉_已經分詞 (2).csv\n"
          ]
        }
      ]
    },
    {
      "cell_type": "code",
      "source": [
        "nan_indices = data[data['n_lastname'].isna()].index\n",
        "print(nan_indices)\n",
        "nan_rows_details = data.loc[[425, 2172]]\n",
        "print(nan_rows_details)\n"
      ],
      "metadata": {
        "id": "6wKcGmec1_a8"
      },
      "execution_count": null,
      "outputs": []
    },
    {
      "cell_type": "code",
      "source": [
        "nan_rows_details = data.loc[[425, 2172]]\n",
        "print(nan_rows_details)"
      ],
      "metadata": {
        "id": "S7u-6cs42cUz"
      },
      "execution_count": null,
      "outputs": []
    },
    {
      "cell_type": "code",
      "source": [
        "# 特徵向量化，使用 Tfidf 向量化\n",
        "vectorizer = TfidfVectorizer(max_features=5000)\n",
        "X = vectorizer.fit_transform(data['n_lastname'])\n",
        "\n",
        "# 職業編號當作目標變量\n",
        "y = data['mainid']\n",
        "\n",
        "# 分割數據為訓練集和測試集\n",
        "X_train, X_test, y_train, y_test = train_test_split(X, y, test_size=0.2, random_state=45)\n",
        "\n",
        "# 訓練模型\n",
        "model = RandomForestClassifier(n_estimators=1000)\n",
        "model.fit(X_train, y_train)\n",
        "\n",
        "# 預測和評估\n",
        "y_pred = model.predict(X_test)\n",
        "print(classification_report(y_test, y_pred))"
      ],
      "metadata": {
        "id": "t__KtJeB0jC0"
      },
      "execution_count": null,
      "outputs": []
    },
    {
      "cell_type": "code",
      "source": [
        "#準確率不高，所以採用smote 後再進行\n",
        "\n",
        "# 檢查類別分部\n",
        "data_df = pd.DataFrame({'lastname': data['n_lastname'], 'label': data['mainid']})\n",
        "label_counts = data_df['label'].value_counts()\n",
        "\n",
        "# 查看是否有少於5筆的樣本\n",
        "rare_labels = label_counts[label_counts < 6].index\n",
        "print(f\"稀有類別: {rare_labels}\")\n"
      ],
      "metadata": {
        "id": "Kk6y50kB6J27"
      },
      "execution_count": null,
      "outputs": []
    },
    {
      "cell_type": "code",
      "source": [
        "# 處理不均衡數據 (使用 SMOTE)\n",
        "X = data_df['lastname'].tolist()\n",
        "y = data_df['label'].tolist()\n",
        "\n",
        "label_encoder = LabelEncoder()\n",
        "y_encoded = label_encoder.fit_transform(y)\n",
        "\n",
        "# 將文本數據轉換為數值特徵\n",
        "vectorizer = TfidfVectorizer(max_features=2500, min_df=1, max_df=0.9)  # 取前 2000 個高頻詞\n",
        "X_vectorized = vectorizer.fit_transform(X)\n",
        "\n",
        "\n",
        "# 使用 SMOTE 平衡類別分佈\n",
        "smote = SMOTE(sampling_strategy='not minority', random_state=42, k_neighbors=5) #複製not minority\n",
        "X_resampled, y_resampled = smote.fit_resample(X_vectorized, y_encoded)\n",
        "\n",
        "# 分割數據集\n",
        "train_texts, val_texts, train_labels, val_labels = train_test_split(\n",
        "    X_resampled, y_resampled, test_size=0.2, random_state=69, stratify=y_resampled\n",
        ")"
      ],
      "metadata": {
        "id": "HYPAPIRe7Vyz"
      },
      "execution_count": null,
      "outputs": []
    },
    {
      "cell_type": "code",
      "source": [
        "# 訓練模型：這裡用訓練特徵和訓練標籤\n",
        "model = RandomForestClassifier(n_estimators=1000)\n",
        "model.fit(train_texts, train_labels)\n",
        "\n",
        "# 預測和評估：用驗證特徵進行預測，並將預測結果與驗證標籤比較\n",
        "y_pred = model.predict(val_texts)\n",
        "print(classification_report(val_labels, y_pred))"
      ],
      "metadata": {
        "id": "4gGDDKkN8pp0"
      },
      "execution_count": null,
      "outputs": []
    },
    {
      "cell_type": "markdown",
      "source": [
        "### 對答案\n"
      ],
      "metadata": {
        "id": "xr7ck-Ekmrzb"
      }
    },
    {
      "cell_type": "code",
      "source": [
        "uploaded = files.upload() #上傳資料\n",
        "# Get the filename from the uploaded dictionary\n",
        "filename = list(uploaded.keys())[0]\n",
        "data2 = pd.read_csv(filename)"
      ],
      "metadata": {
        "id": "DqoQ1RBrmuc1"
      },
      "execution_count": null,
      "outputs": []
    },
    {
      "cell_type": "code",
      "source": [
        "def predict_and_evaluate(new_data, model):\n",
        "    # 取得預測結果，注意這裡假設模型接受 ln_lastname 欄位作為輸入\n",
        "    # 將文本數據轉換為數值特徵\n",
        "    X_new = vectorizer.transform(new_data['n_lastname'])\n",
        "\n",
        "    predicted_ids = model.predict(X_new)\n",
        "\n",
        "    # 使用相同的 label_encoder 將編碼數字轉回原始標籤\n",
        "    predicted_labels = label_encoder.inverse_transform(predicted_ids)\n",
        "\n",
        "    # 將預測結果加入 DataFrame 中\n",
        "    new_data['predicted_label'] = predicted_labels\n",
        "\n",
        "    # 根據預測結果與原始 mainid 進行比較，產生 code 欄位 (1 表示預測正確，0 表示錯誤)\n",
        "    new_data['code'] = (new_data['predicted_label'] == new_data['mainid']).astype(int)\n",
        "\n",
        "    # 計算準確率\n",
        "    accuracy = new_data['code'].mean()\n",
        "    print(\"準確率：\", accuracy)\n",
        "    return new_data, accuracy"
      ],
      "metadata": {
        "id": "2asFTPRoZJsr"
      },
      "execution_count": null,
      "outputs": []
    },
    {
      "cell_type": "code",
      "source": [
        "data2, acc = predict_and_evaluate(data, model)"
      ],
      "metadata": {
        "id": "9uS9A0HalBN7"
      },
      "execution_count": null,
      "outputs": []
    },
    {
      "cell_type": "code",
      "source": [
        "#輸出結果\n",
        "output_filename = \"預測結果比對.csv\"\n",
        "data2.to_csv(output_filename, index=False, encoding='utf-8-sig')\n",
        "files.download(output_filename)"
      ],
      "metadata": {
        "colab": {
          "base_uri": "https://localhost:8080/",
          "height": 17
        },
        "id": "QCpl1jR4oK5j",
        "outputId": "071b770c-daa1-422f-9f47-b8f57f4b743c"
      },
      "execution_count": null,
      "outputs": [
        {
          "output_type": "display_data",
          "data": {
            "text/plain": [
              "<IPython.core.display.Javascript object>"
            ],
            "application/javascript": [
              "\n",
              "    async function download(id, filename, size) {\n",
              "      if (!google.colab.kernel.accessAllowed) {\n",
              "        return;\n",
              "      }\n",
              "      const div = document.createElement('div');\n",
              "      const label = document.createElement('label');\n",
              "      label.textContent = `Downloading \"${filename}\": `;\n",
              "      div.appendChild(label);\n",
              "      const progress = document.createElement('progress');\n",
              "      progress.max = size;\n",
              "      div.appendChild(progress);\n",
              "      document.body.appendChild(div);\n",
              "\n",
              "      const buffers = [];\n",
              "      let downloaded = 0;\n",
              "\n",
              "      const channel = await google.colab.kernel.comms.open(id);\n",
              "      // Send a message to notify the kernel that we're ready.\n",
              "      channel.send({})\n",
              "\n",
              "      for await (const message of channel.messages) {\n",
              "        // Send a message to notify the kernel that we're ready.\n",
              "        channel.send({})\n",
              "        if (message.buffers) {\n",
              "          for (const buffer of message.buffers) {\n",
              "            buffers.push(buffer);\n",
              "            downloaded += buffer.byteLength;\n",
              "            progress.value = downloaded;\n",
              "          }\n",
              "        }\n",
              "      }\n",
              "      const blob = new Blob(buffers, {type: 'application/binary'});\n",
              "      const a = document.createElement('a');\n",
              "      a.href = window.URL.createObjectURL(blob);\n",
              "      a.download = filename;\n",
              "      div.appendChild(a);\n",
              "      a.click();\n",
              "      div.remove();\n",
              "    }\n",
              "  "
            ]
          },
          "metadata": {}
        },
        {
          "output_type": "display_data",
          "data": {
            "text/plain": [
              "<IPython.core.display.Javascript object>"
            ],
            "application/javascript": [
              "download(\"download_0367cbcf-7908-400b-90b1-63f8f5ce75dc\", \"\\u9810\\u6e2c\\u7d50\\u679c\\u6bd4\\u5c0d.csv\", 317701)"
            ]
          },
          "metadata": {}
        }
      ]
    },
    {
      "cell_type": "markdown",
      "source": [
        "###儲存模型"
      ],
      "metadata": {
        "id": "bJlzzE_vtvXT"
      }
    },
    {
      "cell_type": "code",
      "source": [
        "import joblib\n",
        "from google.colab import files\n",
        "\n",
        "# 儲存模型\n",
        "joblib.dump(model, 'model.joblib')\n",
        "joblib.dump(vectorizer, 'vectorizer.joblib')\n",
        "joblib.dump(label_encoder, 'label_encoder.joblib')\n",
        "\n",
        "# 下載模型檔案到本地\n",
        "files.download('model.joblib')\n",
        "files.download('vectorizer.joblib')\n",
        "files.download('label_encoder.joblib')"
      ],
      "metadata": {
        "colab": {
          "base_uri": "https://localhost:8080/",
          "height": 17
        },
        "id": "gq15jguWlIuP",
        "outputId": "a8d2a133-1e43-4ab1-c3fd-fda8ca6a7fc2"
      },
      "execution_count": null,
      "outputs": [
        {
          "output_type": "display_data",
          "data": {
            "text/plain": [
              "<IPython.core.display.Javascript object>"
            ],
            "application/javascript": [
              "\n",
              "    async function download(id, filename, size) {\n",
              "      if (!google.colab.kernel.accessAllowed) {\n",
              "        return;\n",
              "      }\n",
              "      const div = document.createElement('div');\n",
              "      const label = document.createElement('label');\n",
              "      label.textContent = `Downloading \"${filename}\": `;\n",
              "      div.appendChild(label);\n",
              "      const progress = document.createElement('progress');\n",
              "      progress.max = size;\n",
              "      div.appendChild(progress);\n",
              "      document.body.appendChild(div);\n",
              "\n",
              "      const buffers = [];\n",
              "      let downloaded = 0;\n",
              "\n",
              "      const channel = await google.colab.kernel.comms.open(id);\n",
              "      // Send a message to notify the kernel that we're ready.\n",
              "      channel.send({})\n",
              "\n",
              "      for await (const message of channel.messages) {\n",
              "        // Send a message to notify the kernel that we're ready.\n",
              "        channel.send({})\n",
              "        if (message.buffers) {\n",
              "          for (const buffer of message.buffers) {\n",
              "            buffers.push(buffer);\n",
              "            downloaded += buffer.byteLength;\n",
              "            progress.value = downloaded;\n",
              "          }\n",
              "        }\n",
              "      }\n",
              "      const blob = new Blob(buffers, {type: 'application/binary'});\n",
              "      const a = document.createElement('a');\n",
              "      a.href = window.URL.createObjectURL(blob);\n",
              "      a.download = filename;\n",
              "      div.appendChild(a);\n",
              "      a.click();\n",
              "      div.remove();\n",
              "    }\n",
              "  "
            ]
          },
          "metadata": {}
        },
        {
          "output_type": "display_data",
          "data": {
            "text/plain": [
              "<IPython.core.display.Javascript object>"
            ],
            "application/javascript": [
              "download(\"download_fba5d3b9-8f6d-4fd4-ba56-66254058ecff\", \"model.joblib\", 480756649)"
            ]
          },
          "metadata": {}
        },
        {
          "output_type": "display_data",
          "data": {
            "text/plain": [
              "<IPython.core.display.Javascript object>"
            ],
            "application/javascript": [
              "\n",
              "    async function download(id, filename, size) {\n",
              "      if (!google.colab.kernel.accessAllowed) {\n",
              "        return;\n",
              "      }\n",
              "      const div = document.createElement('div');\n",
              "      const label = document.createElement('label');\n",
              "      label.textContent = `Downloading \"${filename}\": `;\n",
              "      div.appendChild(label);\n",
              "      const progress = document.createElement('progress');\n",
              "      progress.max = size;\n",
              "      div.appendChild(progress);\n",
              "      document.body.appendChild(div);\n",
              "\n",
              "      const buffers = [];\n",
              "      let downloaded = 0;\n",
              "\n",
              "      const channel = await google.colab.kernel.comms.open(id);\n",
              "      // Send a message to notify the kernel that we're ready.\n",
              "      channel.send({})\n",
              "\n",
              "      for await (const message of channel.messages) {\n",
              "        // Send a message to notify the kernel that we're ready.\n",
              "        channel.send({})\n",
              "        if (message.buffers) {\n",
              "          for (const buffer of message.buffers) {\n",
              "            buffers.push(buffer);\n",
              "            downloaded += buffer.byteLength;\n",
              "            progress.value = downloaded;\n",
              "          }\n",
              "        }\n",
              "      }\n",
              "      const blob = new Blob(buffers, {type: 'application/binary'});\n",
              "      const a = document.createElement('a');\n",
              "      a.href = window.URL.createObjectURL(blob);\n",
              "      a.download = filename;\n",
              "      div.appendChild(a);\n",
              "      a.click();\n",
              "      div.remove();\n",
              "    }\n",
              "  "
            ]
          },
          "metadata": {}
        },
        {
          "output_type": "display_data",
          "data": {
            "text/plain": [
              "<IPython.core.display.Javascript object>"
            ],
            "application/javascript": [
              "download(\"download_e8d09aab-24b4-4c94-bd8b-a418f9173ff6\", \"vectorizer.joblib\", 33543)"
            ]
          },
          "metadata": {}
        },
        {
          "output_type": "display_data",
          "data": {
            "text/plain": [
              "<IPython.core.display.Javascript object>"
            ],
            "application/javascript": [
              "\n",
              "    async function download(id, filename, size) {\n",
              "      if (!google.colab.kernel.accessAllowed) {\n",
              "        return;\n",
              "      }\n",
              "      const div = document.createElement('div');\n",
              "      const label = document.createElement('label');\n",
              "      label.textContent = `Downloading \"${filename}\": `;\n",
              "      div.appendChild(label);\n",
              "      const progress = document.createElement('progress');\n",
              "      progress.max = size;\n",
              "      div.appendChild(progress);\n",
              "      document.body.appendChild(div);\n",
              "\n",
              "      const buffers = [];\n",
              "      let downloaded = 0;\n",
              "\n",
              "      const channel = await google.colab.kernel.comms.open(id);\n",
              "      // Send a message to notify the kernel that we're ready.\n",
              "      channel.send({})\n",
              "\n",
              "      for await (const message of channel.messages) {\n",
              "        // Send a message to notify the kernel that we're ready.\n",
              "        channel.send({})\n",
              "        if (message.buffers) {\n",
              "          for (const buffer of message.buffers) {\n",
              "            buffers.push(buffer);\n",
              "            downloaded += buffer.byteLength;\n",
              "            progress.value = downloaded;\n",
              "          }\n",
              "        }\n",
              "      }\n",
              "      const blob = new Blob(buffers, {type: 'application/binary'});\n",
              "      const a = document.createElement('a');\n",
              "      a.href = window.URL.createObjectURL(blob);\n",
              "      a.download = filename;\n",
              "      div.appendChild(a);\n",
              "      a.click();\n",
              "      div.remove();\n",
              "    }\n",
              "  "
            ]
          },
          "metadata": {}
        },
        {
          "output_type": "display_data",
          "data": {
            "text/plain": [
              "<IPython.core.display.Javascript object>"
            ],
            "application/javascript": [
              "download(\"download_e91a4226-4dea-4c39-a600-72bb6a633e95\", \"label_encoder.joblib\", 471)"
            ]
          },
          "metadata": {}
        }
      ]
    },
    {
      "cell_type": "markdown",
      "source": [
        "### 上傳模型進行使用"
      ],
      "metadata": {
        "id": "lwj-6zCivJqQ"
      }
    },
    {
      "cell_type": "code",
      "source": [
        "import joblib\n",
        "\n",
        "# 載入模型\n",
        "model = joblib.load('model.joblib')\n",
        "\n",
        "# 載入 TF-IDF vectorizer\n",
        "vectorizer = joblib.load('vectorizer.joblib')\n",
        "\n",
        "# 載入 LabelEncoder\n",
        "label_encoder = joblib.load('label_encoder.joblib')"
      ],
      "metadata": {
        "id": "O4AiCTBzvfnq"
      },
      "execution_count": null,
      "outputs": []
    },
    {
      "cell_type": "code",
      "source": [],
      "metadata": {
        "id": "TRCIe-CLvjSz"
      },
      "execution_count": null,
      "outputs": []
    }
  ]
}